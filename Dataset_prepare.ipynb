{
 "cells": [
  {
   "cell_type": "code",
   "execution_count": 1,
   "metadata": {},
   "outputs": [],
   "source": [
    "import os\n",
    "import zipfile\n",
    "from tqdm import tqdm"
   ]
  },
  {
   "cell_type": "code",
   "execution_count": 2,
   "metadata": {
    "scrolled": true
   },
   "outputs": [
    {
     "data": {
      "text/plain": [
       "['/media/user/LHF-HDD02/DATA/MRI_data/HCP/67complete/structural/100206_3T_Structural_preproc.zip',\n",
       " '/media/user/LHF-HDD02/DATA/MRI_data/HCP/67complete/structural/100307_3T_Structural_preproc.zip',\n",
       " '/media/user/LHF-HDD02/DATA/MRI_data/HCP/67complete/structural/100408_3T_Structural_preproc.zip',\n",
       " '/media/user/LHF-HDD02/DATA/MRI_data/HCP/67complete/structural/100610_3T_Structural_preproc.zip',\n",
       " '/media/user/LHF-HDD02/DATA/MRI_data/HCP/67complete/structural/101006_3T_Structural_preproc.zip',\n",
       " '/media/user/LHF-HDD02/DATA/MRI_data/HCP/67complete/structural/101107_3T_Structural_preproc.zip',\n",
       " '/media/user/LHF-HDD02/DATA/MRI_data/HCP/67complete/structural/101309_3T_Structural_preproc.zip',\n",
       " '/media/user/LHF-HDD02/DATA/MRI_data/HCP/67complete/structural/101410_3T_Structural_preproc.zip',\n",
       " '/media/user/LHF-HDD02/DATA/MRI_data/HCP/67complete/structural/101915_3T_Structural_preproc.zip',\n",
       " '/media/user/LHF-HDD02/DATA/MRI_data/HCP/67complete/structural/102008_3T_Structural_preproc.zip',\n",
       " '/media/user/LHF-HDD02/DATA/MRI_data/HCP/67complete/structural/102109_3T_Structural_preproc.zip',\n",
       " '/media/user/LHF-HDD02/DATA/MRI_data/HCP/67complete/structural/102311_3T_Structural_preproc.zip',\n",
       " '/media/user/LHF-HDD02/DATA/MRI_data/HCP/67complete/structural/102513_3T_Structural_preproc.zip',\n",
       " '/media/user/LHF-HDD02/DATA/MRI_data/HCP/67complete/structural/102614_3T_Structural_preproc.zip',\n",
       " '/media/user/LHF-HDD02/DATA/MRI_data/HCP/67complete/structural/102715_3T_Structural_preproc.zip',\n",
       " '/media/user/LHF-HDD02/DATA/MRI_data/HCP/67complete/structural/102816_3T_Structural_preproc.zip',\n",
       " '/media/user/LHF-HDD02/DATA/MRI_data/HCP/67complete/structural/103010_3T_Structural_preproc.zip',\n",
       " '/media/user/LHF-HDD02/DATA/MRI_data/HCP/67complete/structural/103111_3T_Structural_preproc.zip',\n",
       " '/media/user/LHF-HDD02/DATA/MRI_data/HCP/67complete/structural/103212_3T_Structural_preproc.zip',\n",
       " '/media/user/LHF-HDD02/DATA/MRI_data/HCP/67complete/structural/103414_3T_Structural_preproc.zip',\n",
       " '/media/user/LHF-HDD02/DATA/MRI_data/HCP/67complete/structural/103515_3T_Structural_preproc.zip',\n",
       " '/media/user/LHF-HDD02/DATA/MRI_data/HCP/67complete/structural/103818_3T_Structural_preproc.zip',\n",
       " '/media/user/LHF-HDD02/DATA/MRI_data/HCP/67complete/structural/104012_3T_Structural_preproc.zip',\n",
       " '/media/user/LHF-HDD02/DATA/MRI_data/HCP/67complete/structural/104416_3T_Structural_preproc.zip',\n",
       " '/media/user/LHF-HDD02/DATA/MRI_data/HCP/67complete/structural/104820_3T_Structural_preproc.zip',\n",
       " '/media/user/LHF-HDD02/DATA/MRI_data/HCP/67complete/structural/105014_3T_Structural_preproc.zip',\n",
       " '/media/user/LHF-HDD02/DATA/MRI_data/HCP/67complete/structural/105115_3T_Structural_preproc.zip',\n",
       " '/media/user/LHF-HDD02/DATA/MRI_data/HCP/67complete/structural/105216_3T_Structural_preproc.zip',\n",
       " '/media/user/LHF-HDD02/DATA/MRI_data/HCP/67complete/structural/105620_3T_Structural_preproc.zip',\n",
       " '/media/user/LHF-HDD02/DATA/MRI_data/HCP/67complete/structural/105923_3T_Structural_preproc.zip',\n",
       " '/media/user/LHF-HDD02/DATA/MRI_data/HCP/67complete/structural/106016_3T_Structural_preproc.zip',\n",
       " '/media/user/LHF-HDD02/DATA/MRI_data/HCP/67complete/structural/106319_3T_Structural_preproc.zip',\n",
       " '/media/user/LHF-HDD02/DATA/MRI_data/HCP/67complete/structural/106521_3T_Structural_preproc.zip',\n",
       " '/media/user/LHF-HDD02/DATA/MRI_data/HCP/67complete/structural/109830_3T_Structural_preproc.zip',\n",
       " '/media/user/LHF-HDD02/DATA/MRI_data/HCP/67complete/structural/112819_3T_Structural_preproc.zip',\n",
       " '/media/user/LHF-HDD02/DATA/MRI_data/HCP/67complete/structural/106824_3T_Structural_preproc.zip',\n",
       " '/media/user/LHF-HDD02/DATA/MRI_data/HCP/67complete/structural/107018_3T_Structural_preproc.zip',\n",
       " '/media/user/LHF-HDD02/DATA/MRI_data/HCP/67complete/structural/107321_3T_Structural_preproc.zip',\n",
       " '/media/user/LHF-HDD02/DATA/MRI_data/HCP/67complete/structural/107422_3T_Structural_preproc.zip',\n",
       " '/media/user/LHF-HDD02/DATA/MRI_data/HCP/67complete/structural/107725_3T_Structural_preproc.zip',\n",
       " '/media/user/LHF-HDD02/DATA/MRI_data/HCP/67complete/structural/108020_3T_Structural_preproc.zip',\n",
       " '/media/user/LHF-HDD02/DATA/MRI_data/HCP/67complete/structural/108121_3T_Structural_preproc.zip',\n",
       " '/media/user/LHF-HDD02/DATA/MRI_data/HCP/67complete/structural/108222_3T_Structural_preproc.zip',\n",
       " '/media/user/LHF-HDD02/DATA/MRI_data/HCP/67complete/structural/108323_3T_Structural_preproc.zip',\n",
       " '/media/user/LHF-HDD02/DATA/MRI_data/HCP/67complete/structural/108525_3T_Structural_preproc.zip',\n",
       " '/media/user/LHF-HDD02/DATA/MRI_data/HCP/67complete/structural/108828_3T_Structural_preproc.zip',\n",
       " '/media/user/LHF-HDD02/DATA/MRI_data/HCP/67complete/structural/109123_3T_Structural_preproc.zip',\n",
       " '/media/user/LHF-HDD02/DATA/MRI_data/HCP/67complete/structural/110007_3T_Structural_preproc.zip',\n",
       " '/media/user/LHF-HDD02/DATA/MRI_data/HCP/67complete/structural/110411_3T_Structural_preproc.zip',\n",
       " '/media/user/LHF-HDD02/DATA/MRI_data/HCP/67complete/structural/110613_3T_Structural_preproc.zip',\n",
       " '/media/user/LHF-HDD02/DATA/MRI_data/HCP/67complete/structural/111009_3T_Structural_preproc.zip',\n",
       " '/media/user/LHF-HDD02/DATA/MRI_data/HCP/67complete/structural/111211_3T_Structural_preproc.zip',\n",
       " '/media/user/LHF-HDD02/DATA/MRI_data/HCP/67complete/structural/111312_3T_Structural_preproc.zip',\n",
       " '/media/user/LHF-HDD02/DATA/MRI_data/HCP/67complete/structural/111413_3T_Structural_preproc.zip',\n",
       " '/media/user/LHF-HDD02/DATA/MRI_data/HCP/67complete/structural/111514_3T_Structural_preproc.zip',\n",
       " '/media/user/LHF-HDD02/DATA/MRI_data/HCP/67complete/structural/111716_3T_Structural_preproc.zip',\n",
       " '/media/user/LHF-HDD02/DATA/MRI_data/HCP/67complete/structural/112112_3T_Structural_preproc.zip',\n",
       " '/media/user/LHF-HDD02/DATA/MRI_data/HCP/67complete/structural/112314_3T_Structural_preproc.zip',\n",
       " '/media/user/LHF-HDD02/DATA/MRI_data/HCP/67complete/structural/112516_3T_Structural_preproc.zip',\n",
       " '/media/user/LHF-HDD02/DATA/MRI_data/HCP/67complete/structural/112920_3T_Structural_preproc.zip',\n",
       " '/media/user/LHF-HDD02/DATA/MRI_data/HCP/67complete/structural/113215_3T_Structural_preproc.zip',\n",
       " '/media/user/LHF-HDD02/DATA/MRI_data/HCP/67complete/structural/113316_3T_Structural_preproc.zip',\n",
       " '/media/user/LHF-HDD02/DATA/MRI_data/HCP/67complete/structural/113619_3T_Structural_preproc.zip',\n",
       " '/media/user/LHF-HDD02/DATA/MRI_data/HCP/67complete/structural/113821_3T_Structural_preproc.zip',\n",
       " '/media/user/LHF-HDD02/DATA/MRI_data/HCP/67complete/structural/113922_3T_Structural_preproc.zip',\n",
       " '/media/user/LHF-HDD02/DATA/MRI_data/HCP/67complete/structural/114116_3T_Structural_preproc.zip',\n",
       " '/media/user/LHF-HDD02/DATA/MRI_data/HCP/67complete/structural/114217_3T_Structural_preproc.zip']"
      ]
     },
     "execution_count": 2,
     "metadata": {},
     "output_type": "execute_result"
    }
   ],
   "source": [
    "path = '/media/user/LHF-HDD02/DATA/MRI_data/HCP/67complete/structural/'\n",
    "file_list = os.listdir(path)\n",
    "zip_list = list()\n",
    "for item in file_list:\n",
    "    if '.md5' not in item:\n",
    "        zip_list.append(os.path.join(path,item))\n",
    "zip_list"
   ]
  },
  {
   "cell_type": "code",
   "execution_count": 3,
   "metadata": {},
   "outputs": [
    {
     "name": "stderr",
     "output_type": "stream",
     "text": [
      "100%|██████████| 67/67 [12:26<00:00, 11.14s/it]\n"
     ]
    }
   ],
   "source": [
    "path = \"/home/user/Desktop/HumanData\"\n",
    "for item in tqdm(zip_list):\n",
    "    zFile = zipfile.ZipFile(item, \"r\")\n",
    "    #ZipFile.namelist(): 获取ZIP文档内所有文件的名称列表\n",
    "    for fileM in zFile.namelist(): \n",
    "        zFile.extract(fileM, path)\n",
    "    zFile.close();"
   ]
  },
  {
   "cell_type": "code",
   "execution_count": 8,
   "metadata": {},
   "outputs": [
    {
     "ename": "FileNotFoundError",
     "evalue": "[Errno 2] No such file or directory: '/home/user/Desktop/HumanData/101309/T1w/T1w_acpc_dc.nii.gz' -> '/home/user/Desktop/Human/T1w/101309_T1w.nii.gz'",
     "output_type": "error",
     "traceback": [
      "\u001b[0;31m---------------------------------------------------------------------------\u001b[0m",
      "\u001b[0;31mFileNotFoundError\u001b[0m                         Traceback (most recent call last)",
      "\u001b[0;32m<ipython-input-8-516cf95e8d27>\u001b[0m in \u001b[0;36m<module>\u001b[0;34m\u001b[0m\n\u001b[1;32m      5\u001b[0m     \u001b[0mold\u001b[0m \u001b[0;34m=\u001b[0m \u001b[0mos\u001b[0m\u001b[0;34m.\u001b[0m\u001b[0mpath\u001b[0m\u001b[0;34m.\u001b[0m\u001b[0mjoin\u001b[0m\u001b[0;34m(\u001b[0m\u001b[0mfdir\u001b[0m\u001b[0;34m,\u001b[0m \u001b[0mitem\u001b[0m\u001b[0;34m,\u001b[0m \u001b[0;34m'T1w'\u001b[0m\u001b[0;34m,\u001b[0m \u001b[0;34m'T1w_acpc_dc.nii.gz'\u001b[0m\u001b[0;34m)\u001b[0m\u001b[0;34m\u001b[0m\u001b[0;34m\u001b[0m\u001b[0m\n\u001b[1;32m      6\u001b[0m     \u001b[0mnew\u001b[0m \u001b[0;34m=\u001b[0m \u001b[0mos\u001b[0m\u001b[0;34m.\u001b[0m\u001b[0mpath\u001b[0m\u001b[0;34m.\u001b[0m\u001b[0mjoin\u001b[0m\u001b[0;34m(\u001b[0m\u001b[0mpath\u001b[0m\u001b[0;34m,\u001b[0m \u001b[0;34m'T1w'\u001b[0m\u001b[0;34m,\u001b[0m \u001b[0mitem\u001b[0m \u001b[0;34m+\u001b[0m \u001b[0;34m'_T1w.nii.gz'\u001b[0m\u001b[0;34m)\u001b[0m\u001b[0;34m\u001b[0m\u001b[0;34m\u001b[0m\u001b[0m\n\u001b[0;32m----> 7\u001b[0;31m     \u001b[0mos\u001b[0m\u001b[0;34m.\u001b[0m\u001b[0mrename\u001b[0m\u001b[0;34m(\u001b[0m\u001b[0mold\u001b[0m\u001b[0;34m,\u001b[0m \u001b[0mnew\u001b[0m\u001b[0;34m)\u001b[0m\u001b[0;34m\u001b[0m\u001b[0;34m\u001b[0m\u001b[0m\n\u001b[0m\u001b[1;32m      8\u001b[0m     \u001b[0mold\u001b[0m \u001b[0;34m=\u001b[0m \u001b[0mos\u001b[0m\u001b[0;34m.\u001b[0m\u001b[0mpath\u001b[0m\u001b[0;34m.\u001b[0m\u001b[0mjoin\u001b[0m\u001b[0;34m(\u001b[0m\u001b[0mfdir\u001b[0m\u001b[0;34m,\u001b[0m \u001b[0mitem\u001b[0m\u001b[0;34m,\u001b[0m \u001b[0;34m'T1w'\u001b[0m\u001b[0;34m,\u001b[0m \u001b[0;34m'brainmask_fs.nii.gz'\u001b[0m\u001b[0;34m)\u001b[0m\u001b[0;34m\u001b[0m\u001b[0;34m\u001b[0m\u001b[0m\n\u001b[1;32m      9\u001b[0m     \u001b[0mnew\u001b[0m \u001b[0;34m=\u001b[0m \u001b[0mos\u001b[0m\u001b[0;34m.\u001b[0m\u001b[0mpath\u001b[0m\u001b[0;34m.\u001b[0m\u001b[0mjoin\u001b[0m\u001b[0;34m(\u001b[0m\u001b[0mpath\u001b[0m\u001b[0;34m,\u001b[0m \u001b[0;34m'Mask'\u001b[0m\u001b[0;34m,\u001b[0m \u001b[0mitem\u001b[0m \u001b[0;34m+\u001b[0m \u001b[0;34m'_brainmask.nii.gz'\u001b[0m\u001b[0;34m)\u001b[0m\u001b[0;34m\u001b[0m\u001b[0;34m\u001b[0m\u001b[0m\n",
      "\u001b[0;31mFileNotFoundError\u001b[0m: [Errno 2] No such file or directory: '/home/user/Desktop/HumanData/101309/T1w/T1w_acpc_dc.nii.gz' -> '/home/user/Desktop/Human/T1w/101309_T1w.nii.gz'"
     ]
    }
   ],
   "source": [
    "fdir = path\n",
    "path = \"/home/user/Desktop/Human\"\n",
    "folder_list = os.listdir(fdir)\n",
    "for item in folder_list:\n",
    "    old = os.path.join(fdir, item, 'T1w', 'T1w_acpc_dc.nii.gz')\n",
    "    new = os.path.join(path, 'T1w', item + '_T1w.nii.gz')\n",
    "    os.rename(old, new)\n",
    "    old = os.path.join(fdir, item, 'T1w', 'brainmask_fs.nii.gz')\n",
    "    new = os.path.join(path, 'Mask', item + '_brainmask.nii.gz')\n",
    "    os.rename(old, new)\n",
    "    old = os.path.join(fdir, item, 'T1w', 'T2w_acpc_dc.nii.gz')\n",
    "    new = os.path.join(path, 'T2w', item + '_T2w.nii.gz')\n",
    "    os.rename(old, new)"
   ]
  },
  {
   "cell_type": "code",
   "execution_count": null,
   "metadata": {},
   "outputs": [],
   "source": []
  }
 ],
 "metadata": {
  "kernelspec": {
   "display_name": "Python [conda env:pytorch]",
   "language": "python",
   "name": "conda-env-pytorch-py"
  },
  "language_info": {
   "codemirror_mode": {
    "name": "ipython",
    "version": 3
   },
   "file_extension": ".py",
   "mimetype": "text/x-python",
   "name": "python",
   "nbconvert_exporter": "python",
   "pygments_lexer": "ipython3",
   "version": "3.8.5"
  }
 },
 "nbformat": 4,
 "nbformat_minor": 4
}
